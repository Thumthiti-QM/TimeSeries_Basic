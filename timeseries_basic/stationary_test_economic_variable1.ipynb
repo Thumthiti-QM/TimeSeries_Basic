{
 "cells": [
  {
   "cell_type": "code",
   "execution_count": 2,
   "id": "attended-joseph",
   "metadata": {},
   "outputs": [],
   "source": [
    "import pandas as pd"
   ]
  },
  {
   "cell_type": "code",
   "execution_count": 3,
   "id": "increased-photograph",
   "metadata": {},
   "outputs": [],
   "source": [
    "data = pd.read_csv('domestic_var.csv') \n"
   ]
  },
  {
   "cell_type": "code",
   "execution_count": 8,
   "id": "human-maximum",
   "metadata": {},
   "outputs": [
    {
     "data": {
      "text/html": [
       "<div>\n",
       "<style scoped>\n",
       "    .dataframe tbody tr th:only-of-type {\n",
       "        vertical-align: middle;\n",
       "    }\n",
       "\n",
       "    .dataframe tbody tr th {\n",
       "        vertical-align: top;\n",
       "    }\n",
       "\n",
       "    .dataframe thead th {\n",
       "        text-align: right;\n",
       "    }\n",
       "</style>\n",
       "<table border=\"1\" class=\"dataframe\">\n",
       "  <thead>\n",
       "    <tr style=\"text-align: right;\">\n",
       "      <th></th>\n",
       "      <th>Scenario Name</th>\n",
       "      <th>Date</th>\n",
       "      <th>Real GDP growth</th>\n",
       "      <th>Nominal GDP growth</th>\n",
       "      <th>Real disposable income growth</th>\n",
       "      <th>Nominal disposable income growth</th>\n",
       "      <th>Unemployment rate</th>\n",
       "      <th>CPI inflation rate</th>\n",
       "      <th>3-month Treasury rate</th>\n",
       "      <th>5-year Treasury yield</th>\n",
       "      <th>10-year Treasury yield</th>\n",
       "      <th>BBB corporate yield</th>\n",
       "      <th>Mortgage rate</th>\n",
       "      <th>Prime rate</th>\n",
       "      <th>Dow Jones Total Stock Market Index (Level)</th>\n",
       "      <th>House Price Index (Level)</th>\n",
       "      <th>Commercial Real Estate Price Index (Level)</th>\n",
       "      <th>Market Volatility Index (Level)</th>\n",
       "    </tr>\n",
       "  </thead>\n",
       "  <tbody>\n",
       "    <tr>\n",
       "      <th>0</th>\n",
       "      <td>Actual</td>\n",
       "      <td>1976 Q1</td>\n",
       "      <td>9.3</td>\n",
       "      <td>14.0</td>\n",
       "      <td>4.9</td>\n",
       "      <td>9.6</td>\n",
       "      <td>7.7</td>\n",
       "      <td>4.7</td>\n",
       "      <td>4.9</td>\n",
       "      <td>7.4</td>\n",
       "      <td>7.6</td>\n",
       "      <td>NaN</td>\n",
       "      <td>8.9</td>\n",
       "      <td>6.8</td>\n",
       "      <td>NaN</td>\n",
       "      <td>23.3</td>\n",
       "      <td>50.9</td>\n",
       "      <td>NaN</td>\n",
       "    </tr>\n",
       "    <tr>\n",
       "      <th>1</th>\n",
       "      <td>Actual</td>\n",
       "      <td>1976 Q2</td>\n",
       "      <td>3.0</td>\n",
       "      <td>7.2</td>\n",
       "      <td>2.3</td>\n",
       "      <td>5.8</td>\n",
       "      <td>7.6</td>\n",
       "      <td>3.6</td>\n",
       "      <td>5.2</td>\n",
       "      <td>7.4</td>\n",
       "      <td>7.6</td>\n",
       "      <td>NaN</td>\n",
       "      <td>8.8</td>\n",
       "      <td>6.9</td>\n",
       "      <td>NaN</td>\n",
       "      <td>23.5</td>\n",
       "      <td>51.8</td>\n",
       "      <td>NaN</td>\n",
       "    </tr>\n",
       "    <tr>\n",
       "      <th>2</th>\n",
       "      <td>Actual</td>\n",
       "      <td>1976 Q3</td>\n",
       "      <td>2.2</td>\n",
       "      <td>7.6</td>\n",
       "      <td>3.2</td>\n",
       "      <td>9.6</td>\n",
       "      <td>7.7</td>\n",
       "      <td>6.5</td>\n",
       "      <td>5.2</td>\n",
       "      <td>7.3</td>\n",
       "      <td>7.6</td>\n",
       "      <td>NaN</td>\n",
       "      <td>9.0</td>\n",
       "      <td>7.1</td>\n",
       "      <td>NaN</td>\n",
       "      <td>24.4</td>\n",
       "      <td>52.6</td>\n",
       "      <td>NaN</td>\n",
       "    </tr>\n",
       "    <tr>\n",
       "      <th>3</th>\n",
       "      <td>Actual</td>\n",
       "      <td>1976 Q4</td>\n",
       "      <td>2.9</td>\n",
       "      <td>10.5</td>\n",
       "      <td>2.6</td>\n",
       "      <td>9.2</td>\n",
       "      <td>7.8</td>\n",
       "      <td>5.9</td>\n",
       "      <td>4.7</td>\n",
       "      <td>6.5</td>\n",
       "      <td>7.1</td>\n",
       "      <td>NaN</td>\n",
       "      <td>8.8</td>\n",
       "      <td>6.5</td>\n",
       "      <td>NaN</td>\n",
       "      <td>25.4</td>\n",
       "      <td>53.4</td>\n",
       "      <td>NaN</td>\n",
       "    </tr>\n",
       "    <tr>\n",
       "      <th>4</th>\n",
       "      <td>Actual</td>\n",
       "      <td>1977 Q1</td>\n",
       "      <td>4.8</td>\n",
       "      <td>11.7</td>\n",
       "      <td>0.9</td>\n",
       "      <td>8.4</td>\n",
       "      <td>7.5</td>\n",
       "      <td>7.5</td>\n",
       "      <td>4.6</td>\n",
       "      <td>6.8</td>\n",
       "      <td>7.2</td>\n",
       "      <td>NaN</td>\n",
       "      <td>8.7</td>\n",
       "      <td>6.3</td>\n",
       "      <td>NaN</td>\n",
       "      <td>26.4</td>\n",
       "      <td>55.0</td>\n",
       "      <td>NaN</td>\n",
       "    </tr>\n",
       "    <tr>\n",
       "      <th>...</th>\n",
       "      <td>...</td>\n",
       "      <td>...</td>\n",
       "      <td>...</td>\n",
       "      <td>...</td>\n",
       "      <td>...</td>\n",
       "      <td>...</td>\n",
       "      <td>...</td>\n",
       "      <td>...</td>\n",
       "      <td>...</td>\n",
       "      <td>...</td>\n",
       "      <td>...</td>\n",
       "      <td>...</td>\n",
       "      <td>...</td>\n",
       "      <td>...</td>\n",
       "      <td>...</td>\n",
       "      <td>...</td>\n",
       "      <td>...</td>\n",
       "      <td>...</td>\n",
       "    </tr>\n",
       "    <tr>\n",
       "      <th>175</th>\n",
       "      <td>Actual</td>\n",
       "      <td>2019 Q4</td>\n",
       "      <td>2.4</td>\n",
       "      <td>3.9</td>\n",
       "      <td>1.9</td>\n",
       "      <td>3.4</td>\n",
       "      <td>3.6</td>\n",
       "      <td>2.4</td>\n",
       "      <td>1.6</td>\n",
       "      <td>1.6</td>\n",
       "      <td>1.8</td>\n",
       "      <td>3.3</td>\n",
       "      <td>3.7</td>\n",
       "      <td>4.8</td>\n",
       "      <td>33035.4</td>\n",
       "      <td>212.5</td>\n",
       "      <td>300.9</td>\n",
       "      <td>20.6</td>\n",
       "    </tr>\n",
       "    <tr>\n",
       "      <th>176</th>\n",
       "      <td>Actual</td>\n",
       "      <td>2020 Q1</td>\n",
       "      <td>-5.0</td>\n",
       "      <td>-3.4</td>\n",
       "      <td>2.6</td>\n",
       "      <td>3.9</td>\n",
       "      <td>3.8</td>\n",
       "      <td>1.2</td>\n",
       "      <td>1.1</td>\n",
       "      <td>1.2</td>\n",
       "      <td>1.4</td>\n",
       "      <td>3.4</td>\n",
       "      <td>3.5</td>\n",
       "      <td>4.4</td>\n",
       "      <td>25984.8</td>\n",
       "      <td>215.1</td>\n",
       "      <td>302.4</td>\n",
       "      <td>82.7</td>\n",
       "    </tr>\n",
       "    <tr>\n",
       "      <th>177</th>\n",
       "      <td>Actual</td>\n",
       "      <td>2020 Q2</td>\n",
       "      <td>-31.4</td>\n",
       "      <td>-32.8</td>\n",
       "      <td>48.5</td>\n",
       "      <td>46.2</td>\n",
       "      <td>13.1</td>\n",
       "      <td>-3.5</td>\n",
       "      <td>0.1</td>\n",
       "      <td>0.4</td>\n",
       "      <td>0.7</td>\n",
       "      <td>3.4</td>\n",
       "      <td>3.2</td>\n",
       "      <td>3.3</td>\n",
       "      <td>31576.8</td>\n",
       "      <td>218.3</td>\n",
       "      <td>303.5</td>\n",
       "      <td>57.1</td>\n",
       "    </tr>\n",
       "    <tr>\n",
       "      <th>178</th>\n",
       "      <td>Actual</td>\n",
       "      <td>2020 Q3</td>\n",
       "      <td>33.4</td>\n",
       "      <td>38.3</td>\n",
       "      <td>-16.3</td>\n",
       "      <td>-13.2</td>\n",
       "      <td>8.8</td>\n",
       "      <td>5.2</td>\n",
       "      <td>0.1</td>\n",
       "      <td>0.3</td>\n",
       "      <td>0.6</td>\n",
       "      <td>2.4</td>\n",
       "      <td>3.0</td>\n",
       "      <td>3.3</td>\n",
       "      <td>34305.8</td>\n",
       "      <td>223.2</td>\n",
       "      <td>300.1</td>\n",
       "      <td>33.6</td>\n",
       "    </tr>\n",
       "    <tr>\n",
       "      <th>179</th>\n",
       "      <td>Actual</td>\n",
       "      <td>2020 Q4</td>\n",
       "      <td>3.7</td>\n",
       "      <td>5.5</td>\n",
       "      <td>-8.1</td>\n",
       "      <td>-7.5</td>\n",
       "      <td>6.8</td>\n",
       "      <td>2.2</td>\n",
       "      <td>0.1</td>\n",
       "      <td>0.4</td>\n",
       "      <td>0.9</td>\n",
       "      <td>2.3</td>\n",
       "      <td>2.8</td>\n",
       "      <td>3.3</td>\n",
       "      <td>39219.6</td>\n",
       "      <td>225.0</td>\n",
       "      <td>297.1</td>\n",
       "      <td>40.3</td>\n",
       "    </tr>\n",
       "  </tbody>\n",
       "</table>\n",
       "<p>180 rows × 18 columns</p>\n",
       "</div>"
      ],
      "text/plain": [
       "    Scenario Name     Date  Real GDP growth  Nominal GDP growth  \\\n",
       "0          Actual  1976 Q1              9.3                14.0   \n",
       "1          Actual  1976 Q2              3.0                 7.2   \n",
       "2          Actual  1976 Q3              2.2                 7.6   \n",
       "3          Actual  1976 Q4              2.9                10.5   \n",
       "4          Actual  1977 Q1              4.8                11.7   \n",
       "..            ...      ...              ...                 ...   \n",
       "175        Actual  2019 Q4              2.4                 3.9   \n",
       "176        Actual  2020 Q1             -5.0                -3.4   \n",
       "177        Actual  2020 Q2            -31.4               -32.8   \n",
       "178        Actual  2020 Q3             33.4                38.3   \n",
       "179        Actual  2020 Q4              3.7                 5.5   \n",
       "\n",
       "     Real disposable income growth  Nominal disposable income growth  \\\n",
       "0                              4.9                               9.6   \n",
       "1                              2.3                               5.8   \n",
       "2                              3.2                               9.6   \n",
       "3                              2.6                               9.2   \n",
       "4                              0.9                               8.4   \n",
       "..                             ...                               ...   \n",
       "175                            1.9                               3.4   \n",
       "176                            2.6                               3.9   \n",
       "177                           48.5                              46.2   \n",
       "178                          -16.3                             -13.2   \n",
       "179                           -8.1                              -7.5   \n",
       "\n",
       "     Unemployment rate  CPI inflation rate  3-month Treasury rate  \\\n",
       "0                  7.7                 4.7                    4.9   \n",
       "1                  7.6                 3.6                    5.2   \n",
       "2                  7.7                 6.5                    5.2   \n",
       "3                  7.8                 5.9                    4.7   \n",
       "4                  7.5                 7.5                    4.6   \n",
       "..                 ...                 ...                    ...   \n",
       "175                3.6                 2.4                    1.6   \n",
       "176                3.8                 1.2                    1.1   \n",
       "177               13.1                -3.5                    0.1   \n",
       "178                8.8                 5.2                    0.1   \n",
       "179                6.8                 2.2                    0.1   \n",
       "\n",
       "     5-year Treasury yield  10-year Treasury yield  BBB corporate yield  \\\n",
       "0                      7.4                     7.6                  NaN   \n",
       "1                      7.4                     7.6                  NaN   \n",
       "2                      7.3                     7.6                  NaN   \n",
       "3                      6.5                     7.1                  NaN   \n",
       "4                      6.8                     7.2                  NaN   \n",
       "..                     ...                     ...                  ...   \n",
       "175                    1.6                     1.8                  3.3   \n",
       "176                    1.2                     1.4                  3.4   \n",
       "177                    0.4                     0.7                  3.4   \n",
       "178                    0.3                     0.6                  2.4   \n",
       "179                    0.4                     0.9                  2.3   \n",
       "\n",
       "     Mortgage rate  Prime rate  Dow Jones Total Stock Market Index (Level)  \\\n",
       "0              8.9         6.8                                         NaN   \n",
       "1              8.8         6.9                                         NaN   \n",
       "2              9.0         7.1                                         NaN   \n",
       "3              8.8         6.5                                         NaN   \n",
       "4              8.7         6.3                                         NaN   \n",
       "..             ...         ...                                         ...   \n",
       "175            3.7         4.8                                     33035.4   \n",
       "176            3.5         4.4                                     25984.8   \n",
       "177            3.2         3.3                                     31576.8   \n",
       "178            3.0         3.3                                     34305.8   \n",
       "179            2.8         3.3                                     39219.6   \n",
       "\n",
       "     House Price Index (Level)  Commercial Real Estate Price Index (Level)  \\\n",
       "0                         23.3                                        50.9   \n",
       "1                         23.5                                        51.8   \n",
       "2                         24.4                                        52.6   \n",
       "3                         25.4                                        53.4   \n",
       "4                         26.4                                        55.0   \n",
       "..                         ...                                         ...   \n",
       "175                      212.5                                       300.9   \n",
       "176                      215.1                                       302.4   \n",
       "177                      218.3                                       303.5   \n",
       "178                      223.2                                       300.1   \n",
       "179                      225.0                                       297.1   \n",
       "\n",
       "     Market Volatility Index (Level)  \n",
       "0                                NaN  \n",
       "1                                NaN  \n",
       "2                                NaN  \n",
       "3                                NaN  \n",
       "4                                NaN  \n",
       "..                               ...  \n",
       "175                             20.6  \n",
       "176                             82.7  \n",
       "177                             57.1  \n",
       "178                             33.6  \n",
       "179                             40.3  \n",
       "\n",
       "[180 rows x 18 columns]"
      ]
     },
     "execution_count": 8,
     "metadata": {},
     "output_type": "execute_result"
    }
   ],
   "source": [
    "data"
   ]
  },
  {
   "cell_type": "code",
   "execution_count": 6,
   "id": "demonstrated-indonesia",
   "metadata": {},
   "outputs": [
    {
     "data": {
      "text/html": [
       "<div>\n",
       "<style scoped>\n",
       "    .dataframe tbody tr th:only-of-type {\n",
       "        vertical-align: middle;\n",
       "    }\n",
       "\n",
       "    .dataframe tbody tr th {\n",
       "        vertical-align: top;\n",
       "    }\n",
       "\n",
       "    .dataframe thead th {\n",
       "        text-align: right;\n",
       "    }\n",
       "</style>\n",
       "<table border=\"1\" class=\"dataframe\">\n",
       "  <thead>\n",
       "    <tr style=\"text-align: right;\">\n",
       "      <th></th>\n",
       "      <th>Unemployment rate</th>\n",
       "      <th>CPI inflation rate</th>\n",
       "      <th>3-month Treasury rate</th>\n",
       "      <th>5-year Treasury yield</th>\n",
       "    </tr>\n",
       "  </thead>\n",
       "  <tbody>\n",
       "    <tr>\n",
       "      <th>0</th>\n",
       "      <td>7.7</td>\n",
       "      <td>4.7</td>\n",
       "      <td>4.9</td>\n",
       "      <td>7.4</td>\n",
       "    </tr>\n",
       "    <tr>\n",
       "      <th>1</th>\n",
       "      <td>7.6</td>\n",
       "      <td>3.6</td>\n",
       "      <td>5.2</td>\n",
       "      <td>7.4</td>\n",
       "    </tr>\n",
       "    <tr>\n",
       "      <th>2</th>\n",
       "      <td>7.7</td>\n",
       "      <td>6.5</td>\n",
       "      <td>5.2</td>\n",
       "      <td>7.3</td>\n",
       "    </tr>\n",
       "    <tr>\n",
       "      <th>3</th>\n",
       "      <td>7.8</td>\n",
       "      <td>5.9</td>\n",
       "      <td>4.7</td>\n",
       "      <td>6.5</td>\n",
       "    </tr>\n",
       "    <tr>\n",
       "      <th>4</th>\n",
       "      <td>7.5</td>\n",
       "      <td>7.5</td>\n",
       "      <td>4.6</td>\n",
       "      <td>6.8</td>\n",
       "    </tr>\n",
       "    <tr>\n",
       "      <th>...</th>\n",
       "      <td>...</td>\n",
       "      <td>...</td>\n",
       "      <td>...</td>\n",
       "      <td>...</td>\n",
       "    </tr>\n",
       "    <tr>\n",
       "      <th>175</th>\n",
       "      <td>3.6</td>\n",
       "      <td>2.4</td>\n",
       "      <td>1.6</td>\n",
       "      <td>1.6</td>\n",
       "    </tr>\n",
       "    <tr>\n",
       "      <th>176</th>\n",
       "      <td>3.8</td>\n",
       "      <td>1.2</td>\n",
       "      <td>1.1</td>\n",
       "      <td>1.2</td>\n",
       "    </tr>\n",
       "    <tr>\n",
       "      <th>177</th>\n",
       "      <td>13.1</td>\n",
       "      <td>-3.5</td>\n",
       "      <td>0.1</td>\n",
       "      <td>0.4</td>\n",
       "    </tr>\n",
       "    <tr>\n",
       "      <th>178</th>\n",
       "      <td>8.8</td>\n",
       "      <td>5.2</td>\n",
       "      <td>0.1</td>\n",
       "      <td>0.3</td>\n",
       "    </tr>\n",
       "    <tr>\n",
       "      <th>179</th>\n",
       "      <td>6.8</td>\n",
       "      <td>2.2</td>\n",
       "      <td>0.1</td>\n",
       "      <td>0.4</td>\n",
       "    </tr>\n",
       "  </tbody>\n",
       "</table>\n",
       "<p>180 rows × 4 columns</p>\n",
       "</div>"
      ],
      "text/plain": [
       "     Unemployment rate  CPI inflation rate  3-month Treasury rate  \\\n",
       "0                  7.7                 4.7                    4.9   \n",
       "1                  7.6                 3.6                    5.2   \n",
       "2                  7.7                 6.5                    5.2   \n",
       "3                  7.8                 5.9                    4.7   \n",
       "4                  7.5                 7.5                    4.6   \n",
       "..                 ...                 ...                    ...   \n",
       "175                3.6                 2.4                    1.6   \n",
       "176                3.8                 1.2                    1.1   \n",
       "177               13.1                -3.5                    0.1   \n",
       "178                8.8                 5.2                    0.1   \n",
       "179                6.8                 2.2                    0.1   \n",
       "\n",
       "     5-year Treasury yield  \n",
       "0                      7.4  \n",
       "1                      7.4  \n",
       "2                      7.3  \n",
       "3                      6.5  \n",
       "4                      6.8  \n",
       "..                     ...  \n",
       "175                    1.6  \n",
       "176                    1.2  \n",
       "177                    0.4  \n",
       "178                    0.3  \n",
       "179                    0.4  \n",
       "\n",
       "[180 rows x 4 columns]"
      ]
     },
     "execution_count": 6,
     "metadata": {},
     "output_type": "execute_result"
    }
   ],
   "source": [
    "data.iloc[:,6:10]"
   ]
  },
  {
   "cell_type": "code",
   "execution_count": 14,
   "id": "environmental-venice",
   "metadata": {},
   "outputs": [
    {
     "data": {
      "text/html": [
       "<div>\n",
       "<style scoped>\n",
       "    .dataframe tbody tr th:only-of-type {\n",
       "        vertical-align: middle;\n",
       "    }\n",
       "\n",
       "    .dataframe tbody tr th {\n",
       "        vertical-align: top;\n",
       "    }\n",
       "\n",
       "    .dataframe thead th {\n",
       "        text-align: right;\n",
       "    }\n",
       "</style>\n",
       "<table border=\"1\" class=\"dataframe\">\n",
       "  <thead>\n",
       "    <tr style=\"text-align: right;\">\n",
       "      <th></th>\n",
       "      <th>Unemployment rate</th>\n",
       "      <th>CPI inflation rate</th>\n",
       "      <th>3-month Treasury rate</th>\n",
       "      <th>5-year Treasury yield</th>\n",
       "    </tr>\n",
       "  </thead>\n",
       "  <tbody>\n",
       "    <tr>\n",
       "      <th>0</th>\n",
       "      <td>7.7</td>\n",
       "      <td>4.7</td>\n",
       "      <td>4.9</td>\n",
       "      <td>7.4</td>\n",
       "    </tr>\n",
       "    <tr>\n",
       "      <th>1</th>\n",
       "      <td>7.6</td>\n",
       "      <td>3.6</td>\n",
       "      <td>5.2</td>\n",
       "      <td>7.4</td>\n",
       "    </tr>\n",
       "    <tr>\n",
       "      <th>2</th>\n",
       "      <td>7.7</td>\n",
       "      <td>6.5</td>\n",
       "      <td>5.2</td>\n",
       "      <td>7.3</td>\n",
       "    </tr>\n",
       "    <tr>\n",
       "      <th>3</th>\n",
       "      <td>7.8</td>\n",
       "      <td>5.9</td>\n",
       "      <td>4.7</td>\n",
       "      <td>6.5</td>\n",
       "    </tr>\n",
       "    <tr>\n",
       "      <th>4</th>\n",
       "      <td>7.5</td>\n",
       "      <td>7.5</td>\n",
       "      <td>4.6</td>\n",
       "      <td>6.8</td>\n",
       "    </tr>\n",
       "    <tr>\n",
       "      <th>...</th>\n",
       "      <td>...</td>\n",
       "      <td>...</td>\n",
       "      <td>...</td>\n",
       "      <td>...</td>\n",
       "    </tr>\n",
       "    <tr>\n",
       "      <th>175</th>\n",
       "      <td>3.6</td>\n",
       "      <td>2.4</td>\n",
       "      <td>1.6</td>\n",
       "      <td>1.6</td>\n",
       "    </tr>\n",
       "    <tr>\n",
       "      <th>176</th>\n",
       "      <td>3.8</td>\n",
       "      <td>1.2</td>\n",
       "      <td>1.1</td>\n",
       "      <td>1.2</td>\n",
       "    </tr>\n",
       "    <tr>\n",
       "      <th>177</th>\n",
       "      <td>13.1</td>\n",
       "      <td>-3.5</td>\n",
       "      <td>0.1</td>\n",
       "      <td>0.4</td>\n",
       "    </tr>\n",
       "    <tr>\n",
       "      <th>178</th>\n",
       "      <td>8.8</td>\n",
       "      <td>5.2</td>\n",
       "      <td>0.1</td>\n",
       "      <td>0.3</td>\n",
       "    </tr>\n",
       "    <tr>\n",
       "      <th>179</th>\n",
       "      <td>6.8</td>\n",
       "      <td>2.2</td>\n",
       "      <td>0.1</td>\n",
       "      <td>0.4</td>\n",
       "    </tr>\n",
       "  </tbody>\n",
       "</table>\n",
       "<p>180 rows × 4 columns</p>\n",
       "</div>"
      ],
      "text/plain": [
       "     Unemployment rate  CPI inflation rate  3-month Treasury rate  \\\n",
       "0                  7.7                 4.7                    4.9   \n",
       "1                  7.6                 3.6                    5.2   \n",
       "2                  7.7                 6.5                    5.2   \n",
       "3                  7.8                 5.9                    4.7   \n",
       "4                  7.5                 7.5                    4.6   \n",
       "..                 ...                 ...                    ...   \n",
       "175                3.6                 2.4                    1.6   \n",
       "176                3.8                 1.2                    1.1   \n",
       "177               13.1                -3.5                    0.1   \n",
       "178                8.8                 5.2                    0.1   \n",
       "179                6.8                 2.2                    0.1   \n",
       "\n",
       "     5-year Treasury yield  \n",
       "0                      7.4  \n",
       "1                      7.4  \n",
       "2                      7.3  \n",
       "3                      6.5  \n",
       "4                      6.8  \n",
       "..                     ...  \n",
       "175                    1.6  \n",
       "176                    1.2  \n",
       "177                    0.4  \n",
       "178                    0.3  \n",
       "179                    0.4  \n",
       "\n",
       "[180 rows x 4 columns]"
      ]
     },
     "execution_count": 14,
     "metadata": {},
     "output_type": "execute_result"
    }
   ],
   "source": [
    "data.iloc[:,6:10]"
   ]
  },
  {
   "cell_type": "markdown",
   "id": "collected-jurisdiction",
   "metadata": {},
   "source": [
    "# Unemployment rate\t"
   ]
  },
  {
   "cell_type": "code",
   "execution_count": 15,
   "id": "level-response",
   "metadata": {},
   "outputs": [
    {
     "data": {
      "text/plain": [
       "-3.4093132983619556"
      ]
     },
     "execution_count": 15,
     "metadata": {},
     "output_type": "execute_result"
    }
   ],
   "source": [
    "# To perform ADF Test\n",
    "from statsmodels.tsa.stattools import adfuller\n",
    "# Compute ADF test statistics\n",
    "adf = adfuller(data.iloc[:,6], maxlag = 1)\n",
    "adf[0]"
   ]
  },
  {
   "cell_type": "code",
   "execution_count": 16,
   "id": "about-zambia",
   "metadata": {},
   "outputs": [
    {
     "data": {
      "text/plain": [
       "{'1%': -3.4674201432469816,\n",
       " '5%': -2.877826051844538,\n",
       " '10%': -2.575452082332012}"
      ]
     },
     "execution_count": 16,
     "metadata": {},
     "output_type": "execute_result"
    }
   ],
   "source": [
    "adf[4]\n",
    "\n",
    "\n",
    "# sta 95%\n",
    "# non 99%"
   ]
  },
  {
   "cell_type": "markdown",
   "id": "lesser-defensive",
   "metadata": {},
   "source": [
    "#  is  stationary at 5%\n",
    "# is not statoinary at 1%"
   ]
  },
  {
   "cell_type": "code",
   "execution_count": null,
   "id": "human-butter",
   "metadata": {},
   "outputs": [],
   "source": []
  },
  {
   "cell_type": "markdown",
   "id": "worth-victorian",
   "metadata": {},
   "source": [
    "# CPI inflation rate"
   ]
  },
  {
   "cell_type": "code",
   "execution_count": 17,
   "id": "corrected-mainstream",
   "metadata": {},
   "outputs": [
    {
     "data": {
      "text/plain": [
       "-4.11119283026932"
      ]
     },
     "execution_count": 17,
     "metadata": {},
     "output_type": "execute_result"
    }
   ],
   "source": [
    "# To perform ADF Test\n",
    "from statsmodels.tsa.stattools import adfuller\n",
    "# Compute ADF test statistics\n",
    "adf = adfuller(data.iloc[:,7], maxlag = 1)\n",
    "adf[0]"
   ]
  },
  {
   "cell_type": "code",
   "execution_count": 18,
   "id": "secret-species",
   "metadata": {},
   "outputs": [
    {
     "data": {
      "text/plain": [
       "{'1%': -3.467631519151906,\n",
       " '5%': -2.8779183721695567,\n",
       " '10%': -2.575501353364474}"
      ]
     },
     "execution_count": 18,
     "metadata": {},
     "output_type": "execute_result"
    }
   ],
   "source": [
    "adf[4]-4.11119283026932"
   ]
  },
  {
   "cell_type": "code",
   "execution_count": null,
   "id": "several-presentation",
   "metadata": {},
   "outputs": [],
   "source": [
    "# 2nd is  sta "
   ]
  },
  {
   "cell_type": "markdown",
   "id": "excellent-snapshot",
   "metadata": {},
   "source": [
    "# 3-month Treasury rate"
   ]
  },
  {
   "cell_type": "code",
   "execution_count": 22,
   "id": "informative-meeting",
   "metadata": {},
   "outputs": [
    {
     "data": {
      "text/plain": [
       "-1.5463182144464198"
      ]
     },
     "execution_count": 22,
     "metadata": {},
     "output_type": "execute_result"
    }
   ],
   "source": [
    "# To perform ADF Test\n",
    "from statsmodels.tsa.stattools import adfuller\n",
    "# Compute ADF test statistics\n",
    "adf = adfuller(data.iloc[:,8], maxlag = 1)\n",
    "adf[0]"
   ]
  },
  {
   "cell_type": "code",
   "execution_count": 23,
   "id": "initial-asthma",
   "metadata": {},
   "outputs": [
    {
     "data": {
      "text/plain": [
       "{'1%': -3.467631519151906,\n",
       " '5%': -2.8779183721695567,\n",
       " '10%': -2.575501353364474}"
      ]
     },
     "execution_count": 23,
     "metadata": {},
     "output_type": "execute_result"
    }
   ],
   "source": [
    "adf[4]"
   ]
  },
  {
   "cell_type": "code",
   "execution_count": null,
   "id": "boxed-detective",
   "metadata": {},
   "outputs": [],
   "source": [
    "# 3rd not stat"
   ]
  },
  {
   "cell_type": "markdown",
   "id": "cathedral-history",
   "metadata": {},
   "source": [
    "# 5-year Treasury yield"
   ]
  },
  {
   "cell_type": "code",
   "execution_count": 24,
   "id": "strong-cancellation",
   "metadata": {},
   "outputs": [
    {
     "data": {
      "text/plain": [
       "-0.9209416169332187"
      ]
     },
     "execution_count": 24,
     "metadata": {},
     "output_type": "execute_result"
    }
   ],
   "source": [
    "# To perform ADF Test\n",
    "from statsmodels.tsa.stattools import adfuller\n",
    "# Compute ADF test statistics\n",
    "adf = adfuller(data.iloc[:,9], maxlag = 1)\n",
    "adf[0]"
   ]
  },
  {
   "cell_type": "code",
   "execution_count": 25,
   "id": "editorial-swedish",
   "metadata": {},
   "outputs": [
    {
     "data": {
      "text/plain": [
       "{'1%': -3.467631519151906,\n",
       " '5%': -2.8779183721695567,\n",
       " '10%': -2.575501353364474}"
      ]
     },
     "execution_count": 25,
     "metadata": {},
     "output_type": "execute_result"
    }
   ],
   "source": [
    "adf[4]"
   ]
  },
  {
   "cell_type": "code",
   "execution_count": null,
   "id": "funny-multiple",
   "metadata": {},
   "outputs": [],
   "source": [
    "# 4th no stat"
   ]
  },
  {
   "cell_type": "markdown",
   "id": "dangerous-editor",
   "metadata": {},
   "source": [
    "# Look at 1st differnt"
   ]
  },
  {
   "cell_type": "markdown",
   "id": "surrounded-zoning",
   "metadata": {},
   "source": [
    "## 1st dif unem"
   ]
  },
  {
   "cell_type": "code",
   "execution_count": 28,
   "id": "ranging-rogers",
   "metadata": {},
   "outputs": [],
   "source": [
    "data2 = data.copy()"
   ]
  },
  {
   "cell_type": "code",
   "execution_count": 57,
   "id": "auburn-wayne",
   "metadata": {},
   "outputs": [],
   "source": [
    "data2['diff_unem'] = data['Unemployment rate'] - data['Unemployment rate'].shift(1)\n",
    "data2['diff_cpi'] = data['CPI inflation rate'] - data['CPI inflation rate'].shift(1)\n",
    "data2['diff_3m_Trate'] = data['3-month Treasury rate'] - data['3-month Treasury rate'].shift(1)\n",
    "data2['diff_5m_Trate'] = data['5-year Treasury yield'] - data['5-year Treasury yield'].shift(1)\n",
    "data2['double_diff_3m_Trate'] = data2['diff_3m_Trate'] - data2['diff_3m_Trate'].shift(1)\n",
    "data2['double_diff_5m_Trate'] = data2['diff_5m_Trate'] - data2['diff_5m_Trate'].shift(1)\n",
    "\n",
    "\n",
    "data2 = data2.dropna()\n",
    "\n"
   ]
  },
  {
   "cell_type": "code",
   "execution_count": null,
   "id": "imported-contents",
   "metadata": {},
   "outputs": [],
   "source": []
  },
  {
   "cell_type": "code",
   "execution_count": 59,
   "id": "acknowledged-campus",
   "metadata": {},
   "outputs": [
    {
     "data": {
      "text/html": [
       "<div>\n",
       "<style scoped>\n",
       "    .dataframe tbody tr th:only-of-type {\n",
       "        vertical-align: middle;\n",
       "    }\n",
       "\n",
       "    .dataframe tbody tr th {\n",
       "        vertical-align: top;\n",
       "    }\n",
       "\n",
       "    .dataframe thead th {\n",
       "        text-align: right;\n",
       "    }\n",
       "</style>\n",
       "<table border=\"1\" class=\"dataframe\">\n",
       "  <thead>\n",
       "    <tr style=\"text-align: right;\">\n",
       "      <th></th>\n",
       "      <th>Scenario Name</th>\n",
       "      <th>Date</th>\n",
       "      <th>Real GDP growth</th>\n",
       "      <th>Nominal GDP growth</th>\n",
       "      <th>Real disposable income growth</th>\n",
       "      <th>Nominal disposable income growth</th>\n",
       "      <th>Unemployment rate</th>\n",
       "      <th>CPI inflation rate</th>\n",
       "      <th>3-month Treasury rate</th>\n",
       "      <th>5-year Treasury yield</th>\n",
       "      <th>...</th>\n",
       "      <th>Dow Jones Total Stock Market Index (Level)</th>\n",
       "      <th>House Price Index (Level)</th>\n",
       "      <th>Commercial Real Estate Price Index (Level)</th>\n",
       "      <th>Market Volatility Index (Level)</th>\n",
       "      <th>diff_unem</th>\n",
       "      <th>diff_cpi</th>\n",
       "      <th>diff_3m_Trate</th>\n",
       "      <th>diff_5m_Trate</th>\n",
       "      <th>double_diff_3m_Trate</th>\n",
       "      <th>double_diff_5m_Trate</th>\n",
       "    </tr>\n",
       "  </thead>\n",
       "  <tbody>\n",
       "    <tr>\n",
       "      <th>57</th>\n",
       "      <td>Actual</td>\n",
       "      <td>1990 Q2</td>\n",
       "      <td>1.5</td>\n",
       "      <td>6.1</td>\n",
       "      <td>2.8</td>\n",
       "      <td>6.6</td>\n",
       "      <td>5.3</td>\n",
       "      <td>4.0</td>\n",
       "      <td>7.7</td>\n",
       "      <td>8.7</td>\n",
       "      <td>...</td>\n",
       "      <td>3424.4</td>\n",
       "      <td>76.3</td>\n",
       "      <td>107.5</td>\n",
       "      <td>24.2</td>\n",
       "      <td>0.0</td>\n",
       "      <td>-3.1</td>\n",
       "      <td>-0.1</td>\n",
       "      <td>0.2</td>\n",
       "      <td>-0.2</td>\n",
       "      <td>-3.000000e-01</td>\n",
       "    </tr>\n",
       "    <tr>\n",
       "      <th>58</th>\n",
       "      <td>Actual</td>\n",
       "      <td>1990 Q3</td>\n",
       "      <td>0.3</td>\n",
       "      <td>3.7</td>\n",
       "      <td>-0.1</td>\n",
       "      <td>5.0</td>\n",
       "      <td>5.7</td>\n",
       "      <td>7.1</td>\n",
       "      <td>7.5</td>\n",
       "      <td>8.5</td>\n",
       "      <td>...</td>\n",
       "      <td>2879.3</td>\n",
       "      <td>76.0</td>\n",
       "      <td>107.0</td>\n",
       "      <td>36.5</td>\n",
       "      <td>0.4</td>\n",
       "      <td>3.1</td>\n",
       "      <td>-0.2</td>\n",
       "      <td>-0.2</td>\n",
       "      <td>-0.1</td>\n",
       "      <td>-4.000000e-01</td>\n",
       "    </tr>\n",
       "    <tr>\n",
       "      <th>59</th>\n",
       "      <td>Actual</td>\n",
       "      <td>1990 Q4</td>\n",
       "      <td>-3.6</td>\n",
       "      <td>-0.7</td>\n",
       "      <td>-3.4</td>\n",
       "      <td>1.8</td>\n",
       "      <td>6.1</td>\n",
       "      <td>7.0</td>\n",
       "      <td>7.0</td>\n",
       "      <td>8.1</td>\n",
       "      <td>...</td>\n",
       "      <td>3101.4</td>\n",
       "      <td>75.6</td>\n",
       "      <td>106.6</td>\n",
       "      <td>34.0</td>\n",
       "      <td>0.4</td>\n",
       "      <td>-0.1</td>\n",
       "      <td>-0.5</td>\n",
       "      <td>-0.4</td>\n",
       "      <td>-0.3</td>\n",
       "      <td>-2.000000e-01</td>\n",
       "    </tr>\n",
       "    <tr>\n",
       "      <th>60</th>\n",
       "      <td>Actual</td>\n",
       "      <td>1991 Q1</td>\n",
       "      <td>-1.9</td>\n",
       "      <td>2.0</td>\n",
       "      <td>1.0</td>\n",
       "      <td>3.1</td>\n",
       "      <td>6.6</td>\n",
       "      <td>3.0</td>\n",
       "      <td>6.0</td>\n",
       "      <td>7.7</td>\n",
       "      <td>...</td>\n",
       "      <td>3583.7</td>\n",
       "      <td>75.2</td>\n",
       "      <td>105.6</td>\n",
       "      <td>36.2</td>\n",
       "      <td>0.5</td>\n",
       "      <td>-4.0</td>\n",
       "      <td>-1.0</td>\n",
       "      <td>-0.4</td>\n",
       "      <td>-0.5</td>\n",
       "      <td>8.881784e-16</td>\n",
       "    </tr>\n",
       "    <tr>\n",
       "      <th>61</th>\n",
       "      <td>Actual</td>\n",
       "      <td>1991 Q2</td>\n",
       "      <td>3.2</td>\n",
       "      <td>6.2</td>\n",
       "      <td>2.9</td>\n",
       "      <td>5.2</td>\n",
       "      <td>6.8</td>\n",
       "      <td>2.4</td>\n",
       "      <td>5.6</td>\n",
       "      <td>7.8</td>\n",
       "      <td>...</td>\n",
       "      <td>3545.5</td>\n",
       "      <td>75.4</td>\n",
       "      <td>104.6</td>\n",
       "      <td>20.1</td>\n",
       "      <td>0.2</td>\n",
       "      <td>-0.6</td>\n",
       "      <td>-0.4</td>\n",
       "      <td>0.1</td>\n",
       "      <td>0.6</td>\n",
       "      <td>5.000000e-01</td>\n",
       "    </tr>\n",
       "    <tr>\n",
       "      <th>...</th>\n",
       "      <td>...</td>\n",
       "      <td>...</td>\n",
       "      <td>...</td>\n",
       "      <td>...</td>\n",
       "      <td>...</td>\n",
       "      <td>...</td>\n",
       "      <td>...</td>\n",
       "      <td>...</td>\n",
       "      <td>...</td>\n",
       "      <td>...</td>\n",
       "      <td>...</td>\n",
       "      <td>...</td>\n",
       "      <td>...</td>\n",
       "      <td>...</td>\n",
       "      <td>...</td>\n",
       "      <td>...</td>\n",
       "      <td>...</td>\n",
       "      <td>...</td>\n",
       "      <td>...</td>\n",
       "      <td>...</td>\n",
       "      <td>...</td>\n",
       "    </tr>\n",
       "    <tr>\n",
       "      <th>175</th>\n",
       "      <td>Actual</td>\n",
       "      <td>2019 Q4</td>\n",
       "      <td>2.4</td>\n",
       "      <td>3.9</td>\n",
       "      <td>1.9</td>\n",
       "      <td>3.4</td>\n",
       "      <td>3.6</td>\n",
       "      <td>2.4</td>\n",
       "      <td>1.6</td>\n",
       "      <td>1.6</td>\n",
       "      <td>...</td>\n",
       "      <td>33035.4</td>\n",
       "      <td>212.5</td>\n",
       "      <td>300.9</td>\n",
       "      <td>20.6</td>\n",
       "      <td>0.0</td>\n",
       "      <td>0.6</td>\n",
       "      <td>-0.4</td>\n",
       "      <td>-0.1</td>\n",
       "      <td>-0.1</td>\n",
       "      <td>3.000000e-01</td>\n",
       "    </tr>\n",
       "    <tr>\n",
       "      <th>176</th>\n",
       "      <td>Actual</td>\n",
       "      <td>2020 Q1</td>\n",
       "      <td>-5.0</td>\n",
       "      <td>-3.4</td>\n",
       "      <td>2.6</td>\n",
       "      <td>3.9</td>\n",
       "      <td>3.8</td>\n",
       "      <td>1.2</td>\n",
       "      <td>1.1</td>\n",
       "      <td>1.2</td>\n",
       "      <td>...</td>\n",
       "      <td>25984.8</td>\n",
       "      <td>215.1</td>\n",
       "      <td>302.4</td>\n",
       "      <td>82.7</td>\n",
       "      <td>0.2</td>\n",
       "      <td>-1.2</td>\n",
       "      <td>-0.5</td>\n",
       "      <td>-0.4</td>\n",
       "      <td>-0.1</td>\n",
       "      <td>-3.000000e-01</td>\n",
       "    </tr>\n",
       "    <tr>\n",
       "      <th>177</th>\n",
       "      <td>Actual</td>\n",
       "      <td>2020 Q2</td>\n",
       "      <td>-31.4</td>\n",
       "      <td>-32.8</td>\n",
       "      <td>48.5</td>\n",
       "      <td>46.2</td>\n",
       "      <td>13.1</td>\n",
       "      <td>-3.5</td>\n",
       "      <td>0.1</td>\n",
       "      <td>0.4</td>\n",
       "      <td>...</td>\n",
       "      <td>31576.8</td>\n",
       "      <td>218.3</td>\n",
       "      <td>303.5</td>\n",
       "      <td>57.1</td>\n",
       "      <td>9.3</td>\n",
       "      <td>-4.7</td>\n",
       "      <td>-1.0</td>\n",
       "      <td>-0.8</td>\n",
       "      <td>-0.5</td>\n",
       "      <td>-4.000000e-01</td>\n",
       "    </tr>\n",
       "    <tr>\n",
       "      <th>178</th>\n",
       "      <td>Actual</td>\n",
       "      <td>2020 Q3</td>\n",
       "      <td>33.4</td>\n",
       "      <td>38.3</td>\n",
       "      <td>-16.3</td>\n",
       "      <td>-13.2</td>\n",
       "      <td>8.8</td>\n",
       "      <td>5.2</td>\n",
       "      <td>0.1</td>\n",
       "      <td>0.3</td>\n",
       "      <td>...</td>\n",
       "      <td>34305.8</td>\n",
       "      <td>223.2</td>\n",
       "      <td>300.1</td>\n",
       "      <td>33.6</td>\n",
       "      <td>-4.3</td>\n",
       "      <td>8.7</td>\n",
       "      <td>0.0</td>\n",
       "      <td>-0.1</td>\n",
       "      <td>1.0</td>\n",
       "      <td>7.000000e-01</td>\n",
       "    </tr>\n",
       "    <tr>\n",
       "      <th>179</th>\n",
       "      <td>Actual</td>\n",
       "      <td>2020 Q4</td>\n",
       "      <td>3.7</td>\n",
       "      <td>5.5</td>\n",
       "      <td>-8.1</td>\n",
       "      <td>-7.5</td>\n",
       "      <td>6.8</td>\n",
       "      <td>2.2</td>\n",
       "      <td>0.1</td>\n",
       "      <td>0.4</td>\n",
       "      <td>...</td>\n",
       "      <td>39219.6</td>\n",
       "      <td>225.0</td>\n",
       "      <td>297.1</td>\n",
       "      <td>40.3</td>\n",
       "      <td>-2.0</td>\n",
       "      <td>-3.0</td>\n",
       "      <td>0.0</td>\n",
       "      <td>0.1</td>\n",
       "      <td>0.0</td>\n",
       "      <td>2.000000e-01</td>\n",
       "    </tr>\n",
       "  </tbody>\n",
       "</table>\n",
       "<p>123 rows × 24 columns</p>\n",
       "</div>"
      ],
      "text/plain": [
       "    Scenario Name     Date  Real GDP growth  Nominal GDP growth  \\\n",
       "57         Actual  1990 Q2              1.5                 6.1   \n",
       "58         Actual  1990 Q3              0.3                 3.7   \n",
       "59         Actual  1990 Q4             -3.6                -0.7   \n",
       "60         Actual  1991 Q1             -1.9                 2.0   \n",
       "61         Actual  1991 Q2              3.2                 6.2   \n",
       "..            ...      ...              ...                 ...   \n",
       "175        Actual  2019 Q4              2.4                 3.9   \n",
       "176        Actual  2020 Q1             -5.0                -3.4   \n",
       "177        Actual  2020 Q2            -31.4               -32.8   \n",
       "178        Actual  2020 Q3             33.4                38.3   \n",
       "179        Actual  2020 Q4              3.7                 5.5   \n",
       "\n",
       "     Real disposable income growth  Nominal disposable income growth  \\\n",
       "57                             2.8                               6.6   \n",
       "58                            -0.1                               5.0   \n",
       "59                            -3.4                               1.8   \n",
       "60                             1.0                               3.1   \n",
       "61                             2.9                               5.2   \n",
       "..                             ...                               ...   \n",
       "175                            1.9                               3.4   \n",
       "176                            2.6                               3.9   \n",
       "177                           48.5                              46.2   \n",
       "178                          -16.3                             -13.2   \n",
       "179                           -8.1                              -7.5   \n",
       "\n",
       "     Unemployment rate  CPI inflation rate  3-month Treasury rate  \\\n",
       "57                 5.3                 4.0                    7.7   \n",
       "58                 5.7                 7.1                    7.5   \n",
       "59                 6.1                 7.0                    7.0   \n",
       "60                 6.6                 3.0                    6.0   \n",
       "61                 6.8                 2.4                    5.6   \n",
       "..                 ...                 ...                    ...   \n",
       "175                3.6                 2.4                    1.6   \n",
       "176                3.8                 1.2                    1.1   \n",
       "177               13.1                -3.5                    0.1   \n",
       "178                8.8                 5.2                    0.1   \n",
       "179                6.8                 2.2                    0.1   \n",
       "\n",
       "     5-year Treasury yield  ...  Dow Jones Total Stock Market Index (Level)  \\\n",
       "57                     8.7  ...                                      3424.4   \n",
       "58                     8.5  ...                                      2879.3   \n",
       "59                     8.1  ...                                      3101.4   \n",
       "60                     7.7  ...                                      3583.7   \n",
       "61                     7.8  ...                                      3545.5   \n",
       "..                     ...  ...                                         ...   \n",
       "175                    1.6  ...                                     33035.4   \n",
       "176                    1.2  ...                                     25984.8   \n",
       "177                    0.4  ...                                     31576.8   \n",
       "178                    0.3  ...                                     34305.8   \n",
       "179                    0.4  ...                                     39219.6   \n",
       "\n",
       "     House Price Index (Level)  Commercial Real Estate Price Index (Level)  \\\n",
       "57                        76.3                                       107.5   \n",
       "58                        76.0                                       107.0   \n",
       "59                        75.6                                       106.6   \n",
       "60                        75.2                                       105.6   \n",
       "61                        75.4                                       104.6   \n",
       "..                         ...                                         ...   \n",
       "175                      212.5                                       300.9   \n",
       "176                      215.1                                       302.4   \n",
       "177                      218.3                                       303.5   \n",
       "178                      223.2                                       300.1   \n",
       "179                      225.0                                       297.1   \n",
       "\n",
       "     Market Volatility Index (Level)  diff_unem  diff_cpi  diff_3m_Trate  \\\n",
       "57                              24.2        0.0      -3.1           -0.1   \n",
       "58                              36.5        0.4       3.1           -0.2   \n",
       "59                              34.0        0.4      -0.1           -0.5   \n",
       "60                              36.2        0.5      -4.0           -1.0   \n",
       "61                              20.1        0.2      -0.6           -0.4   \n",
       "..                               ...        ...       ...            ...   \n",
       "175                             20.6        0.0       0.6           -0.4   \n",
       "176                             82.7        0.2      -1.2           -0.5   \n",
       "177                             57.1        9.3      -4.7           -1.0   \n",
       "178                             33.6       -4.3       8.7            0.0   \n",
       "179                             40.3       -2.0      -3.0            0.0   \n",
       "\n",
       "     diff_5m_Trate  double_diff_3m_Trate  double_diff_5m_Trate  \n",
       "57             0.2                  -0.2         -3.000000e-01  \n",
       "58            -0.2                  -0.1         -4.000000e-01  \n",
       "59            -0.4                  -0.3         -2.000000e-01  \n",
       "60            -0.4                  -0.5          8.881784e-16  \n",
       "61             0.1                   0.6          5.000000e-01  \n",
       "..             ...                   ...                   ...  \n",
       "175           -0.1                  -0.1          3.000000e-01  \n",
       "176           -0.4                  -0.1         -3.000000e-01  \n",
       "177           -0.8                  -0.5         -4.000000e-01  \n",
       "178           -0.1                   1.0          7.000000e-01  \n",
       "179            0.1                   0.0          2.000000e-01  \n",
       "\n",
       "[123 rows x 24 columns]"
      ]
     },
     "execution_count": 59,
     "metadata": {},
     "output_type": "execute_result"
    }
   ],
   "source": [
    "data2"
   ]
  },
  {
   "cell_type": "code",
   "execution_count": 33,
   "id": "charitable-money",
   "metadata": {},
   "outputs": [
    {
     "data": {
      "text/plain": [
       "-9.468117829330726"
      ]
     },
     "execution_count": 33,
     "metadata": {},
     "output_type": "execute_result"
    }
   ],
   "source": [
    "adf = adfuller((data2.iloc[:,-4]), maxlag = 1)\n",
    "adf[0]"
   ]
  },
  {
   "cell_type": "code",
   "execution_count": 34,
   "id": "numerous-kelly",
   "metadata": {},
   "outputs": [
    {
     "data": {
      "text/plain": [
       "{'1%': -3.4851223522012855,\n",
       " '5%': -2.88553750045158,\n",
       " '10%': -2.5795685622144586}"
      ]
     },
     "execution_count": 34,
     "metadata": {},
     "output_type": "execute_result"
    }
   ],
   "source": [
    "adf[4]"
   ]
  },
  {
   "cell_type": "code",
   "execution_count": 35,
   "id": "plain-potter",
   "metadata": {},
   "outputs": [],
   "source": [
    "# 1st diff 1 var is stat"
   ]
  },
  {
   "cell_type": "markdown",
   "id": "iraqi-shelf",
   "metadata": {},
   "source": [
    "# diff_cpi"
   ]
  },
  {
   "cell_type": "code",
   "execution_count": 36,
   "id": "insured-cuisine",
   "metadata": {},
   "outputs": [
    {
     "data": {
      "text/plain": [
       "-12.955189589505583"
      ]
     },
     "execution_count": 36,
     "metadata": {},
     "output_type": "execute_result"
    }
   ],
   "source": [
    "adf = adfuller((data2.iloc[:,-3]), maxlag = 1)\n",
    "adf[0]"
   ]
  },
  {
   "cell_type": "code",
   "execution_count": 37,
   "id": "fancy-exhibition",
   "metadata": {},
   "outputs": [
    {
     "data": {
      "text/plain": [
       "{'1%': -3.4851223522012855,\n",
       " '5%': -2.88553750045158,\n",
       " '10%': -2.5795685622144586}"
      ]
     },
     "execution_count": 37,
     "metadata": {},
     "output_type": "execute_result"
    }
   ],
   "source": [
    "adf[4]"
   ]
  },
  {
   "cell_type": "code",
   "execution_count": null,
   "id": "central-lucas",
   "metadata": {},
   "outputs": [],
   "source": [
    "# 1st dif 2nd var is stat"
   ]
  },
  {
   "cell_type": "code",
   "execution_count": null,
   "id": "efficient-saskatchewan",
   "metadata": {},
   "outputs": [],
   "source": []
  },
  {
   "cell_type": "markdown",
   "id": "heated-stockholm",
   "metadata": {},
   "source": [
    "# diff_3m_Trate"
   ]
  },
  {
   "cell_type": "code",
   "execution_count": 38,
   "id": "exempt-immigration",
   "metadata": {},
   "outputs": [
    {
     "data": {
      "text/plain": [
       "-5.296412365495255"
      ]
     },
     "execution_count": 38,
     "metadata": {},
     "output_type": "execute_result"
    }
   ],
   "source": [
    "adf = adfuller((data2.iloc[:,-2]), maxlag = 1)\n",
    "adf[0]"
   ]
  },
  {
   "cell_type": "code",
   "execution_count": 39,
   "id": "killing-longer",
   "metadata": {},
   "outputs": [
    {
     "data": {
      "text/plain": [
       "{'1%': -3.4846672514209773,\n",
       " '5%': -2.8853397507076006,\n",
       " '10%': -2.5794629869786503}"
      ]
     },
     "execution_count": 39,
     "metadata": {},
     "output_type": "execute_result"
    }
   ],
   "source": [
    "adf[4]"
   ]
  },
  {
   "cell_type": "code",
   "execution_count": 40,
   "id": "weighted-grill",
   "metadata": {},
   "outputs": [],
   "source": [
    "# 1st dif 3rd var is stat"
   ]
  },
  {
   "cell_type": "code",
   "execution_count": null,
   "id": "nuclear-crossing",
   "metadata": {},
   "outputs": [],
   "source": []
  },
  {
   "cell_type": "markdown",
   "id": "modular-counter",
   "metadata": {},
   "source": [
    "# diff_5m_Trate"
   ]
  },
  {
   "cell_type": "code",
   "execution_count": 41,
   "id": "cosmetic-withdrawal",
   "metadata": {},
   "outputs": [
    {
     "data": {
      "text/plain": [
       "-8.850474596786807"
      ]
     },
     "execution_count": 41,
     "metadata": {},
     "output_type": "execute_result"
    }
   ],
   "source": [
    "adf = adfuller((data2.iloc[:,-1]), maxlag = 1)\n",
    "adf[0]"
   ]
  },
  {
   "cell_type": "code",
   "execution_count": 42,
   "id": "valuable-rates",
   "metadata": {},
   "outputs": [
    {
     "data": {
      "text/plain": [
       "{'1%': -3.4846672514209773,\n",
       " '5%': -2.8853397507076006,\n",
       " '10%': -2.5794629869786503}"
      ]
     },
     "execution_count": 42,
     "metadata": {},
     "output_type": "execute_result"
    }
   ],
   "source": [
    "adf[4]"
   ]
  },
  {
   "cell_type": "code",
   "execution_count": null,
   "id": "featured-cylinder",
   "metadata": {},
   "outputs": [],
   "source": [
    "# 1st dif 4th var is stat"
   ]
  },
  {
   "cell_type": "code",
   "execution_count": 43,
   "id": "loving-england",
   "metadata": {},
   "outputs": [],
   "source": [
    "from matplotlib import pyplot as plt"
   ]
  },
  {
   "cell_type": "code",
   "execution_count": null,
   "id": "precise-london",
   "metadata": {},
   "outputs": [],
   "source": []
  },
  {
   "cell_type": "markdown",
   "id": "confidential-cornell",
   "metadata": {},
   "source": [
    "# plot 1st variable : Unemploymenmt"
   ]
  },
  {
   "cell_type": "code",
   "execution_count": 46,
   "id": "peripheral-thesis",
   "metadata": {},
   "outputs": [
    {
     "data": {
      "text/plain": [
       "[<matplotlib.lines.Line2D at 0x13c0d06acd0>]"
      ]
     },
     "execution_count": 46,
     "metadata": {},
     "output_type": "execute_result"
    },
    {
     "data": {
      "image/png": "[encoded data removed]",
      "text/plain": [
       "<Figure size 432x288 with 1 Axes>"
      ]
     },
     "metadata": {
      "needs_background": "light"
     },
     "output_type": "display_data"
    }
   ],
   "source": [
    "plt.plot(data.iloc[:,6])\n",
    "# without dif\n",
    "\n",
    "# nonstationary with seasonal , small trend and variance clsutering"
   ]
  },
  {
   "cell_type": "code",
   "execution_count": 44,
   "id": "assigned-development",
   "metadata": {},
   "outputs": [
    {
     "data": {
      "text/plain": [
       "[<matplotlib.lines.Line2D at 0x13c0bf9b7c0>]"
      ]
     },
     "execution_count": 44,
     "metadata": {},
     "output_type": "execute_result"
    },
    {
     "data": {
      "image/png": "[encoded data removed]",
      "text/plain": [
       "<Figure size 432x288 with 1 Axes>"
      ]
     },
     "metadata": {
      "needs_background": "light"
     },
     "output_type": "display_data"
    }
   ],
   "source": [
    "plt.plot(data2.iloc[:,-4])\n",
    "# after dif"
   ]
  },
  {
   "cell_type": "code",
   "execution_count": null,
   "id": "prime-italy",
   "metadata": {},
   "outputs": [],
   "source": []
  },
  {
   "cell_type": "markdown",
   "id": "blank-shuttle",
   "metadata": {},
   "source": [
    "# plot 2nd variable : CPI"
   ]
  },
  {
   "cell_type": "code",
   "execution_count": 48,
   "id": "binding-commercial",
   "metadata": {},
   "outputs": [
    {
     "data": {
      "text/plain": [
       "[<matplotlib.lines.Line2D at 0x13c0d0c3970>]"
      ]
     },
     "execution_count": 48,
     "metadata": {},
     "output_type": "execute_result"
    },
    {
     "data": {
      "image/png": "[encoded data removed]",
      "text/plain": [
       "<Figure size 432x288 with 1 Axes>"
      ]
     },
     "metadata": {
      "needs_background": "light"
     },
     "output_type": "display_data"
    }
   ],
   "source": [
    "plt.plot(data.iloc[:,7])\n",
    "# without dif\n",
    "\n",
    "# stationary"
   ]
  },
  {
   "cell_type": "code",
   "execution_count": 49,
   "id": "satisfactory-slave",
   "metadata": {},
   "outputs": [
    {
     "data": {
      "text/plain": [
       "[<matplotlib.lines.Line2D at 0x13c0d118a90>]"
      ]
     },
     "execution_count": 49,
     "metadata": {},
     "output_type": "execute_result"
    },
    {
     "data": {
      "image/png": "[encoded data removed]",
      "text/plain": [
       "<Figure size 432x288 with 1 Axes>"
      ]
     },
     "metadata": {
      "needs_background": "light"
     },
     "output_type": "display_data"
    }
   ],
   "source": [
    "plt.plot(data2.iloc[:,-3])\n",
    "# after dif"
   ]
  },
  {
   "cell_type": "markdown",
   "id": "weird-trinidad",
   "metadata": {},
   "source": [
    "## plot 3rd variable : 3 month T-bill rate"
   ]
  },
  {
   "cell_type": "code",
   "execution_count": 50,
   "id": "perceived-blake",
   "metadata": {},
   "outputs": [
    {
     "data": {
      "text/plain": [
       "[<matplotlib.lines.Line2D at 0x13c0d176130>]"
      ]
     },
     "execution_count": 50,
     "metadata": {},
     "output_type": "execute_result"
    },
    {
     "data": {
      "image/png": "[encoded data removed]",
      "text/plain": [
       "<Figure size 432x288 with 1 Axes>"
      ]
     },
     "metadata": {
      "needs_background": "light"
     },
     "output_type": "display_data"
    }
   ],
   "source": [
    "plt.plot(data.iloc[:,8])\n",
    "# without dif\n",
    "\n",
    "\n",
    "\n",
    "# nonstationary with seasonal , downward trend and variance decrease"
   ]
  },
  {
   "cell_type": "code",
   "execution_count": 51,
   "id": "outdoor-stack",
   "metadata": {},
   "outputs": [
    {
     "data": {
      "text/plain": [
       "[<matplotlib.lines.Line2D at 0x13c0d1c8d90>]"
      ]
     },
     "execution_count": 51,
     "metadata": {},
     "output_type": "execute_result"
    },
    {
     "data": {
      "image/png": "[encoded data removed]",
      "text/plain": [
       "<Figure size 432x288 with 1 Axes>"
      ]
     },
     "metadata": {
      "needs_background": "light"
     },
     "output_type": "display_data"
    }
   ],
   "source": [
    "plt.plot(data2.iloc[:,-2])\n",
    "# after dif"
   ]
  },
  {
   "cell_type": "code",
   "execution_count": 61,
   "id": "regular-evans",
   "metadata": {},
   "outputs": [
    {
     "data": {
      "text/plain": [
       "[<matplotlib.lines.Line2D at 0x13c0d479070>]"
      ]
     },
     "execution_count": 61,
     "metadata": {},
     "output_type": "execute_result"
    },
    {
     "data": {
      "image/png": "[encoded data removed]",
      "text/plain": [
       "<Figure size 432x288 with 1 Axes>"
      ]
     },
     "metadata": {
      "needs_background": "light"
     },
     "output_type": "display_data"
    }
   ],
   "source": [
    "plt.plot(data2.iloc[:,-2])\n",
    "# after double dif"
   ]
  },
  {
   "cell_type": "markdown",
   "id": "present-chosen",
   "metadata": {},
   "source": [
    "## plot 4th variable : 5 month T-bill"
   ]
  },
  {
   "cell_type": "code",
   "execution_count": 53,
   "id": "commercial-massage",
   "metadata": {},
   "outputs": [
    {
     "data": {
      "text/plain": [
       "[<matplotlib.lines.Line2D at 0x13c0d219df0>]"
      ]
     },
     "execution_count": 53,
     "metadata": {},
     "output_type": "execute_result"
    },
    {
     "data": {
      "image/png": "[encoded data removed]",
      "text/plain": [
       "<Figure size 432x288 with 1 Axes>"
      ]
     },
     "metadata": {
      "needs_background": "light"
     },
     "output_type": "display_data"
    }
   ],
   "source": [
    "plt.plot(data.iloc[:,9])\n",
    "# without dif\n",
    "\n",
    "# nonstationary with seasonal , downward trend and variance decrease"
   ]
  },
  {
   "cell_type": "code",
   "execution_count": 54,
   "id": "growing-video",
   "metadata": {},
   "outputs": [
    {
     "data": {
      "text/plain": [
       "[<matplotlib.lines.Line2D at 0x13c0d277970>]"
      ]
     },
     "execution_count": 54,
     "metadata": {},
     "output_type": "execute_result"
    },
    {
     "data": {
      "image/png": "[encoded data removed]",
      "text/plain": [
       "<Figure size 432x288 with 1 Axes>"
      ]
     },
     "metadata": {
      "needs_background": "light"
     },
     "output_type": "display_data"
    }
   ],
   "source": [
    "plt.plot(data2.iloc[:,-1])\n",
    "# after dif"
   ]
  },
  {
   "cell_type": "code",
   "execution_count": null,
   "id": "surprised-forum",
   "metadata": {},
   "outputs": [],
   "source": []
  },
  {
   "cell_type": "code",
   "execution_count": 60,
   "id": "eligible-hebrew",
   "metadata": {},
   "outputs": [
    {
     "data": {
      "text/plain": [
       "[<matplotlib.lines.Line2D at 0x13c0d422580>]"
      ]
     },
     "execution_count": 60,
     "metadata": {},
     "output_type": "execute_result"
    },
    {
     "data": {
      "image/png": "[encoded data removed]",
      "text/plain": [
       "<Figure size 432x288 with 1 Axes>"
      ]
     },
     "metadata": {
      "needs_background": "light"
     },
     "output_type": "display_data"
    }
   ],
   "source": [
    "plt.plot(data2.iloc[:,-1])\n",
    "# after double dif"
   ]
  },
  {
   "cell_type": "code",
   "execution_count": null,
   "id": "hidden-sewing",
   "metadata": {},
   "outputs": [],
   "source": []
  }
 ],
 "metadata": {
  "kernelspec": {
   "display_name": "Python 3",
   "language": "python",
   "name": "python3"
  },
  "language_info": {
   "codemirror_mode": {
    "name": "ipython",
    "version": 3
   },
   "file_extension": ".py",
   "mimetype": "text/x-python",
   "name": "python",
   "nbconvert_exporter": "python",
   "pygments_lexer": "ipython3",
   "version": "3.8.5"
  }
 },
 "nbformat": 4,
 "nbformat_minor": 5
}
